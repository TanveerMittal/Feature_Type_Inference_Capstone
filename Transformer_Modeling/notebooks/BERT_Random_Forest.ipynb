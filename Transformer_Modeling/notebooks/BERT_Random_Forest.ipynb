{
 "cells": [
  {
   "cell_type": "code",
   "execution_count": 1,
   "id": "9b38105b",
   "metadata": {},
   "outputs": [],
   "source": [
    "%load_ext autoreload\n",
    "%autoreload 2\n",
    "import re\n",
    "import pandas as pd\n",
    "import numpy as np\n",
    "import torch\n",
    "import torch.nn as nn\n",
    "import torch.nn.functional as F\n",
    "import transformers\n",
    "from transformers import AdamW\n",
    "from transformers import AutoModel, BertTokenizerFast\n",
    "from sklearn.metrics import accuracy_score\n",
    "from sklearn.model_selection import train_test_split\n",
    "import sys\n",
    "sys.path.append('../')\n",
    "from process_data import *\n",
    "from models.transformer_cnn import *\n",
    "from training import train\n",
    "from evaluation import evaluate\n",
    "import matplotlib.pyplot as plt"
   ]
  },
  {
   "cell_type": "code",
   "execution_count": 2,
   "id": "c56e6704",
   "metadata": {},
   "outputs": [
    {
     "data": {
      "text/html": [
       "<div>\n",
       "<style scoped>\n",
       "    .dataframe tbody tr th:only-of-type {\n",
       "        vertical-align: middle;\n",
       "    }\n",
       "\n",
       "    .dataframe tbody tr th {\n",
       "        vertical-align: top;\n",
       "    }\n",
       "\n",
       "    .dataframe thead th {\n",
       "        text-align: right;\n",
       "    }\n",
       "</style>\n",
       "<table border=\"1\" class=\"dataframe\">\n",
       "  <thead>\n",
       "    <tr style=\"text-align: right;\">\n",
       "      <th></th>\n",
       "      <th>Record_id</th>\n",
       "      <th>Attribute_name</th>\n",
       "      <th>y_act</th>\n",
       "      <th>total_vals</th>\n",
       "      <th>num_nans</th>\n",
       "      <th>%_nans</th>\n",
       "      <th>num_of_dist_val</th>\n",
       "      <th>%_dist_val</th>\n",
       "      <th>mean</th>\n",
       "      <th>std_dev</th>\n",
       "      <th>...</th>\n",
       "      <th>mean_stopword_total</th>\n",
       "      <th>stdev_stopword_total</th>\n",
       "      <th>mean_char_count</th>\n",
       "      <th>stdev_char_count</th>\n",
       "      <th>mean_whitespace_count</th>\n",
       "      <th>stdev_whitespace_count</th>\n",
       "      <th>mean_delim_count</th>\n",
       "      <th>stdev_delim_count</th>\n",
       "      <th>is_list</th>\n",
       "      <th>is_long_sentence</th>\n",
       "    </tr>\n",
       "  </thead>\n",
       "  <tbody>\n",
       "    <tr>\n",
       "      <th>0</th>\n",
       "      <td>33</td>\n",
       "      <td>Area</td>\n",
       "      <td>categorical</td>\n",
       "      <td>21477</td>\n",
       "      <td>0</td>\n",
       "      <td>0.0</td>\n",
       "      <td>174</td>\n",
       "      <td>0.810169</td>\n",
       "      <td>0.000000</td>\n",
       "      <td>0.000000</td>\n",
       "      <td>...</td>\n",
       "      <td>0.2</td>\n",
       "      <td>0.4</td>\n",
       "      <td>10.0</td>\n",
       "      <td>4.816638</td>\n",
       "      <td>0.4</td>\n",
       "      <td>0.8</td>\n",
       "      <td>0.4</td>\n",
       "      <td>0.8</td>\n",
       "      <td>False</td>\n",
       "      <td>False</td>\n",
       "    </tr>\n",
       "    <tr>\n",
       "      <th>1</th>\n",
       "      <td>33</td>\n",
       "      <td>Area Code</td>\n",
       "      <td>categorical</td>\n",
       "      <td>21477</td>\n",
       "      <td>0</td>\n",
       "      <td>0.0</td>\n",
       "      <td>174</td>\n",
       "      <td>0.810169</td>\n",
       "      <td>125.449411</td>\n",
       "      <td>72.866452</td>\n",
       "      <td>...</td>\n",
       "      <td>0.0</td>\n",
       "      <td>0.0</td>\n",
       "      <td>1.0</td>\n",
       "      <td>0.000000</td>\n",
       "      <td>0.0</td>\n",
       "      <td>0.0</td>\n",
       "      <td>0.0</td>\n",
       "      <td>0.0</td>\n",
       "      <td>False</td>\n",
       "      <td>False</td>\n",
       "    </tr>\n",
       "    <tr>\n",
       "      <th>2</th>\n",
       "      <td>33</td>\n",
       "      <td>Element</td>\n",
       "      <td>categorical</td>\n",
       "      <td>21477</td>\n",
       "      <td>0</td>\n",
       "      <td>0.0</td>\n",
       "      <td>2</td>\n",
       "      <td>0.009312</td>\n",
       "      <td>0.000000</td>\n",
       "      <td>0.000000</td>\n",
       "      <td>...</td>\n",
       "      <td>0.0</td>\n",
       "      <td>0.0</td>\n",
       "      <td>4.0</td>\n",
       "      <td>0.000000</td>\n",
       "      <td>0.0</td>\n",
       "      <td>0.0</td>\n",
       "      <td>0.0</td>\n",
       "      <td>0.0</td>\n",
       "      <td>False</td>\n",
       "      <td>False</td>\n",
       "    </tr>\n",
       "    <tr>\n",
       "      <th>3</th>\n",
       "      <td>33</td>\n",
       "      <td>Element Code</td>\n",
       "      <td>categorical</td>\n",
       "      <td>21477</td>\n",
       "      <td>0</td>\n",
       "      <td>0.0</td>\n",
       "      <td>2</td>\n",
       "      <td>0.009312</td>\n",
       "      <td>5211.687154</td>\n",
       "      <td>146.816661</td>\n",
       "      <td>...</td>\n",
       "      <td>0.0</td>\n",
       "      <td>0.0</td>\n",
       "      <td>4.0</td>\n",
       "      <td>0.000000</td>\n",
       "      <td>0.0</td>\n",
       "      <td>0.0</td>\n",
       "      <td>0.0</td>\n",
       "      <td>0.0</td>\n",
       "      <td>False</td>\n",
       "      <td>False</td>\n",
       "    </tr>\n",
       "    <tr>\n",
       "      <th>4</th>\n",
       "      <td>33</td>\n",
       "      <td>Item</td>\n",
       "      <td>categorical</td>\n",
       "      <td>21477</td>\n",
       "      <td>0</td>\n",
       "      <td>0.0</td>\n",
       "      <td>115</td>\n",
       "      <td>0.535457</td>\n",
       "      <td>0.000000</td>\n",
       "      <td>0.000000</td>\n",
       "      <td>...</td>\n",
       "      <td>0.8</td>\n",
       "      <td>0.4</td>\n",
       "      <td>19.6</td>\n",
       "      <td>2.244994</td>\n",
       "      <td>2.0</td>\n",
       "      <td>0.0</td>\n",
       "      <td>2.0</td>\n",
       "      <td>0.0</td>\n",
       "      <td>False</td>\n",
       "      <td>False</td>\n",
       "    </tr>\n",
       "  </tbody>\n",
       "</table>\n",
       "<p>5 rows × 33 columns</p>\n",
       "</div>"
      ],
      "text/plain": [
       "   Record_id Attribute_name        y_act  total_vals  num_nans  %_nans  \\\n",
       "0         33           Area  categorical       21477         0     0.0   \n",
       "1         33      Area Code  categorical       21477         0     0.0   \n",
       "2         33        Element  categorical       21477         0     0.0   \n",
       "3         33   Element Code  categorical       21477         0     0.0   \n",
       "4         33           Item  categorical       21477         0     0.0   \n",
       "\n",
       "   num_of_dist_val  %_dist_val         mean     std_dev  ...  \\\n",
       "0              174    0.810169     0.000000    0.000000  ...   \n",
       "1              174    0.810169   125.449411   72.866452  ...   \n",
       "2                2    0.009312     0.000000    0.000000  ...   \n",
       "3                2    0.009312  5211.687154  146.816661  ...   \n",
       "4              115    0.535457     0.000000    0.000000  ...   \n",
       "\n",
       "   mean_stopword_total  stdev_stopword_total mean_char_count stdev_char_count  \\\n",
       "0                  0.2                   0.4            10.0         4.816638   \n",
       "1                  0.0                   0.0             1.0         0.000000   \n",
       "2                  0.0                   0.0             4.0         0.000000   \n",
       "3                  0.0                   0.0             4.0         0.000000   \n",
       "4                  0.8                   0.4            19.6         2.244994   \n",
       "\n",
       "  mean_whitespace_count stdev_whitespace_count mean_delim_count  \\\n",
       "0                   0.4                    0.8              0.4   \n",
       "1                   0.0                    0.0              0.0   \n",
       "2                   0.0                    0.0              0.0   \n",
       "3                   0.0                    0.0              0.0   \n",
       "4                   2.0                    0.0              2.0   \n",
       "\n",
       "   stdev_delim_count  is_list  is_long_sentence  \n",
       "0                0.8    False             False  \n",
       "1                0.0    False             False  \n",
       "2                0.0    False             False  \n",
       "3                0.0    False             False  \n",
       "4                0.0    False             False  \n",
       "\n",
       "[5 rows x 33 columns]"
      ]
     },
     "execution_count": 2,
     "metadata": {},
     "output_type": "execute_result"
    }
   ],
   "source": [
    "df_zoo_train, df_zoo_test = load_data(\"../data\")\n",
    "df_zoo_train.head()"
   ]
  },
  {
   "cell_type": "code",
   "execution_count": 3,
   "id": "bd9965ef",
   "metadata": {},
   "outputs": [
    {
     "data": {
      "text/html": [
       "<div>\n",
       "<style scoped>\n",
       "    .dataframe tbody tr th:only-of-type {\n",
       "        vertical-align: middle;\n",
       "    }\n",
       "\n",
       "    .dataframe tbody tr th {\n",
       "        vertical-align: top;\n",
       "    }\n",
       "\n",
       "    .dataframe thead th {\n",
       "        text-align: right;\n",
       "    }\n",
       "</style>\n",
       "<table border=\"1\" class=\"dataframe\">\n",
       "  <thead>\n",
       "    <tr style=\"text-align: right;\">\n",
       "      <th></th>\n",
       "      <th>text</th>\n",
       "      <th>features</th>\n",
       "      <th>label</th>\n",
       "    </tr>\n",
       "  </thead>\n",
       "  <tbody>\n",
       "    <tr>\n",
       "      <th>0</th>\n",
       "      <td>Area [SEP] Afghanistan [SEP] Albania [SEP] Alg...</td>\n",
       "      <td>[1.058161729698188, -0.49520412160069144, 0.0,...</td>\n",
       "      <td>1.0</td>\n",
       "    </tr>\n",
       "    <tr>\n",
       "      <th>1</th>\n",
       "      <td>Area Code [SEP] 2 [SEP] 3 [SEP] 4 [SEP] 7 [SEP] 8</td>\n",
       "      <td>[1.058161729698188, -0.49520412160069144, 0.0,...</td>\n",
       "      <td>1.0</td>\n",
       "    </tr>\n",
       "    <tr>\n",
       "      <th>2</th>\n",
       "      <td>Element [SEP] Food [SEP] Feed [SEP] Food [SEP]...</td>\n",
       "      <td>[1.058161729698188, -0.49520412160069144, 0.0,...</td>\n",
       "      <td>1.0</td>\n",
       "    </tr>\n",
       "    <tr>\n",
       "      <th>3</th>\n",
       "      <td>Element Code [SEP] 5142 [SEP] 5521 [SEP] 5142 ...</td>\n",
       "      <td>[1.058161729698188, -0.49520412160069144, 0.0,...</td>\n",
       "      <td>1.0</td>\n",
       "    </tr>\n",
       "    <tr>\n",
       "      <th>4</th>\n",
       "      <td>Item [SEP] Wheat and products [SEP] Rice (Mill...</td>\n",
       "      <td>[1.058161729698188, -0.49520412160069144, 0.0,...</td>\n",
       "      <td>1.0</td>\n",
       "    </tr>\n",
       "  </tbody>\n",
       "</table>\n",
       "</div>"
      ],
      "text/plain": [
       "                                                text  \\\n",
       "0  Area [SEP] Afghanistan [SEP] Albania [SEP] Alg...   \n",
       "1  Area Code [SEP] 2 [SEP] 3 [SEP] 4 [SEP] 7 [SEP] 8   \n",
       "2  Element [SEP] Food [SEP] Feed [SEP] Food [SEP]...   \n",
       "3  Element Code [SEP] 5142 [SEP] 5521 [SEP] 5142 ...   \n",
       "4  Item [SEP] Wheat and products [SEP] Rice (Mill...   \n",
       "\n",
       "                                            features  label  \n",
       "0  [1.058161729698188, -0.49520412160069144, 0.0,...    1.0  \n",
       "1  [1.058161729698188, -0.49520412160069144, 0.0,...    1.0  \n",
       "2  [1.058161729698188, -0.49520412160069144, 0.0,...    1.0  \n",
       "3  [1.058161729698188, -0.49520412160069144, 0.0,...    1.0  \n",
       "4  [1.058161729698188, -0.49520412160069144, 0.0,...    1.0  "
      ]
     },
     "execution_count": 3,
     "metadata": {},
     "output_type": "execute_result"
    }
   ],
   "source": [
    "train_data = preprocess(df_zoo_train, \" [SEP] \")\n",
    "test_data = preprocess(df_zoo_test, \" [SEP] \")\n",
    "train_data.head()"
   ]
  },
  {
   "cell_type": "code",
   "execution_count": 4,
   "id": "60dcc561",
   "metadata": {},
   "outputs": [],
   "source": [
    "x_train, x_val, y_train, y_val = train_test_split(train_data[['text', \"features\"]], train_data['label'], \n",
    "                                                                    random_state=2018, \n",
    "                                                                    test_size=0.2, \n",
    "                                                                    stratify=train_data['label'])"
   ]
  },
  {
   "cell_type": "code",
   "execution_count": 5,
   "id": "ebc1a639",
   "metadata": {},
   "outputs": [
    {
     "name": "stderr",
     "output_type": "stream",
     "text": [
      "Some weights of the model checkpoint at bert-base-uncased were not used when initializing BertModel: ['cls.predictions.transform.dense.bias', 'cls.predictions.bias', 'cls.predictions.decoder.weight', 'cls.seq_relationship.weight', 'cls.predictions.transform.dense.weight', 'cls.seq_relationship.bias', 'cls.predictions.transform.LayerNorm.weight', 'cls.predictions.transform.LayerNorm.bias']\n",
      "- This IS expected if you are initializing BertModel from the checkpoint of a model trained on another task or with another architecture (e.g. initializing a BertForSequenceClassification model from a BertForPreTraining model).\n",
      "- This IS NOT expected if you are initializing BertModel from the checkpoint of a model that you expect to be exactly identical (initializing a BertForSequenceClassification model from a BertForSequenceClassification model).\n"
     ]
    }
   ],
   "source": [
    "transformer = AutoModel.from_pretrained('bert-base-uncased').to(device)"
   ]
  },
  {
   "cell_type": "code",
   "execution_count": 6,
   "id": "0a281d59",
   "metadata": {},
   "outputs": [],
   "source": [
    "model_name = \"berta_random_forest\""
   ]
  },
  {
   "cell_type": "code",
   "execution_count": 7,
   "id": "9b266e3b",
   "metadata": {},
   "outputs": [],
   "source": [
    "device = torch.device(\"cuda\")"
   ]
  },
  {
   "cell_type": "code",
   "execution_count": 9,
   "id": "f834770b",
   "metadata": {},
   "outputs": [],
   "source": [
    "for param in transformer.parameters():\n",
    "    param.requires_grad = False"
   ]
  },
  {
   "cell_type": "code",
   "execution_count": 8,
   "id": "238d0393",
   "metadata": {},
   "outputs": [
    {
     "name": "stderr",
     "output_type": "stream",
     "text": [
      "/home/tamittal/.local/lib/python3.9/site-packages/transformers/tokenization_utils_base.py:2198: FutureWarning: The `pad_to_max_length` argument is deprecated and will be removed in a future version, use `padding=True` or `padding='longest'` to pad to the longest sequence in the batch, or use `padding='max_length'` to pad to a max length. In this case, you can give a specific length with `max_length` (e.g. `max_length=45`) or leave max_length to None to pad to the maximal input size of the model (e.g. 512 for Bert).\n",
      "  warnings.warn(\n"
     ]
    }
   ],
   "source": [
    "train_dataloader, val_dataloader, test_dataloader = init_dataloaders(x_train, y_train, x_val, y_val, \n",
    "                                                                     test_data, model=\"bert\")"
   ]
  },
  {
   "cell_type": "code",
   "execution_count": 9,
   "id": "87586a93",
   "metadata": {
    "scrolled": false
   },
   "outputs": [],
   "source": [
    "def rf_featurize(dataloader):\n",
    "    X = []\n",
    "    Y = []\n",
    "    for step,batch in enumerate(dataloader):\n",
    "            # push the batch to gpu\n",
    "            batch = [r.to(device) for r in batch]\n",
    "\n",
    "            sent_id, mask, features, labels = batch\n",
    "\n",
    "            tf_out = transformer(sent_id, attention_mask=mask)\n",
    "\n",
    "            for i in range(tf_out.pooler_output.shape[0]):\n",
    "                emb = tf_out.pooler_output[i].tolist()\n",
    "                feat = features[i].tolist()\n",
    "                X.append(emb+feat)\n",
    "                Y.append(int(labels[i]))\n",
    "    X = np.asarray(X)\n",
    "    Y = np.asarray(Y)\n",
    "    return X, Y"
   ]
  },
  {
   "cell_type": "code",
   "execution_count": 10,
   "id": "d13cc1d1",
   "metadata": {},
   "outputs": [],
   "source": [
    "X_train, Y_train = rf_featurize(train_dataloader)\n",
    "X_val, Y_val = rf_featurize(val_dataloader)\n",
    "X_test, Y_test = rf_featurize(test_dataloader)"
   ]
  },
  {
   "cell_type": "code",
   "execution_count": 11,
   "id": "fc91538c",
   "metadata": {},
   "outputs": [],
   "source": [
    "from sklearn.ensemble import RandomForestClassifier, AdaBoostClassifier\n",
    "clf = RandomForestClassifier()"
   ]
  },
  {
   "cell_type": "code",
   "execution_count": 12,
   "id": "e4b3b75f",
   "metadata": {},
   "outputs": [
    {
     "data": {
      "text/plain": [
       "RandomForestClassifier()"
      ]
     },
     "execution_count": 12,
     "metadata": {},
     "output_type": "execute_result"
    }
   ],
   "source": [
    "clf.fit(X_train, Y_train)"
   ]
  },
  {
   "cell_type": "code",
   "execution_count": 13,
   "id": "7d9f8958",
   "metadata": {},
   "outputs": [],
   "source": [
    "from sklearn.metrics import accuracy_score"
   ]
  },
  {
   "cell_type": "code",
   "execution_count": 14,
   "id": "253765ed",
   "metadata": {},
   "outputs": [
    {
     "name": "stdout",
     "output_type": "stream",
     "text": [
      "train: 1.0\n",
      "val: 0.8664146187775678\n",
      "test: 0.8181360201511335\n"
     ]
    }
   ],
   "source": [
    "print(\"train:\", accuracy_score(Y_train, clf.predict(X_train)))\n",
    "print(\"val:\", accuracy_score(Y_val, clf.predict(X_val)))\n",
    "print(\"test:\", accuracy_score(Y_test, clf.predict(X_test)))"
   ]
  },
  {
   "cell_type": "code",
   "execution_count": 15,
   "id": "eefd240f",
   "metadata": {},
   "outputs": [],
   "source": [
    "model = Transformer_cnn(transformer, 256, [1, 2, 3, 4, 5])\n",
    "\n",
    "model = model.to(device)"
   ]
  },
  {
   "cell_type": "code",
   "execution_count": 16,
   "id": "0bced285",
   "metadata": {},
   "outputs": [
    {
     "data": {
      "text/plain": [
       "<All keys matched successfully>"
      ]
     },
     "execution_count": 16,
     "metadata": {},
     "output_type": "execute_result"
    }
   ],
   "source": [
    "model.load_state_dict(torch.load(\"../models/exports/bert_cnn_256_1_2_3_4_5_best_924.pt\"))"
   ]
  },
  {
   "cell_type": "code",
   "execution_count": 17,
   "id": "9043e032",
   "metadata": {},
   "outputs": [],
   "source": [
    "def rf_featurize(dataloader):\n",
    "    X = []\n",
    "    Y = []\n",
    "    for step,batch in enumerate(dataloader):\n",
    "            # push the batch to gpu\n",
    "            batch = [r.to(device) for r in batch]\n",
    "\n",
    "            sent_id, mask, features, labels = batch\n",
    "\n",
    "            preds, conv_out = model(sent_id, mask, features)\n",
    "\n",
    "            for i in range(conv_out.shape[0]):\n",
    "                X.append(conv_out[i].tolist())\n",
    "                Y.append(int(labels[i]))\n",
    "    X = np.asarray(X)\n",
    "    Y = np.asarray(Y)\n",
    "    return X, Y"
   ]
  },
  {
   "cell_type": "code",
   "execution_count": 18,
   "id": "a527fd3f",
   "metadata": {},
   "outputs": [],
   "source": [
    "X_train, Y_train = rf_featurize(train_dataloader)\n",
    "X_val, Y_val = rf_featurize(val_dataloader)\n",
    "X_test, Y_test = rf_featurize(test_dataloader)"
   ]
  },
  {
   "cell_type": "code",
   "execution_count": 21,
   "id": "4e4ff04e",
   "metadata": {},
   "outputs": [],
   "source": [
    "from sklearn.neighbors import KNeighborsClassifier\n",
    "from sklearn.svm import SVC"
   ]
  },
  {
   "cell_type": "code",
   "execution_count": 24,
   "id": "b7ec163b",
   "metadata": {},
   "outputs": [
    {
     "data": {
      "text/plain": [
       "SVC()"
      ]
     },
     "execution_count": 24,
     "metadata": {},
     "output_type": "execute_result"
    }
   ],
   "source": [
    "clf = SVC()\n",
    "clf.fit(X_train, Y_train)"
   ]
  },
  {
   "cell_type": "code",
   "execution_count": 25,
   "id": "337ae050",
   "metadata": {},
   "outputs": [
    {
     "name": "stdout",
     "output_type": "stream",
     "text": [
      "train: 0.9604537576807941\n",
      "val: 0.9010712035286704\n",
      "test: 0.8977329974811084\n"
     ]
    }
   ],
   "source": [
    "print(\"train:\", accuracy_score(Y_train, clf.predict(X_train)))\n",
    "print(\"val:\", accuracy_score(Y_val, clf.predict(X_val)))\n",
    "print(\"test:\", accuracy_score(Y_test, clf.predict(X_test)))"
   ]
  },
  {
   "cell_type": "code",
   "execution_count": null,
   "id": "f2637933",
   "metadata": {},
   "outputs": [],
   "source": []
  }
 ],
 "metadata": {
  "kernelspec": {
   "display_name": "Python 3 (ipykernel)",
   "language": "python",
   "name": "python3"
  },
  "language_info": {
   "codemirror_mode": {
    "name": "ipython",
    "version": 3
   },
   "file_extension": ".py",
   "mimetype": "text/x-python",
   "name": "python",
   "nbconvert_exporter": "python",
   "pygments_lexer": "ipython3",
   "version": "3.9.5"
  }
 },
 "nbformat": 4,
 "nbformat_minor": 5
}
